{
 "cells": [
  {
   "cell_type": "code",
   "execution_count": 1,
   "id": "c42f8e6e",
   "metadata": {},
   "outputs": [],
   "source": [
    "import pandas as pd\n",
    "import numpy as np\n",
    "import scipy as sp\n",
    "import matplotlib.pyplot as plt\n",
    "from plotnine import *"
   ]
  },
  {
   "cell_type": "code",
   "execution_count": 2,
   "id": "b36d9104",
   "metadata": {},
   "outputs": [],
   "source": [
    "# load data\n",
    "# due to sensivity of the dataset, it is not included in the data repository\n",
    "# please download from brightspace\n",
    "data = pd.read_csv('Data_IER_2022.csv', delimiter=',', encoding='latin1', na_values='NA', index_col='ID')"
   ]
  },
  {
   "cell_type": "code",
   "execution_count": 3,
   "id": "5e40c56e",
   "metadata": {},
   "outputs": [
    {
     "data": {
      "text/html": [
       "<div>\n",
       "<style scoped>\n",
       "    .dataframe tbody tr th:only-of-type {\n",
       "        vertical-align: middle;\n",
       "    }\n",
       "\n",
       "    .dataframe tbody tr th {\n",
       "        vertical-align: top;\n",
       "    }\n",
       "\n",
       "    .dataframe thead th {\n",
       "        text-align: right;\n",
       "    }\n",
       "</style>\n",
       "<table border=\"1\" class=\"dataframe\">\n",
       "  <thead>\n",
       "    <tr style=\"text-align: right;\">\n",
       "      <th></th>\n",
       "      <th>year</th>\n",
       "      <th>gender</th>\n",
       "      <th>bmi</th>\n",
       "      <th>living</th>\n",
       "      <th>stap_est</th>\n",
       "      <th>erv_fa_sub1_q</th>\n",
       "      <th>erv_fa_sub2_q</th>\n",
       "      <th>erv_fa</th>\n",
       "      <th>dag_zwa1</th>\n",
       "      <th>tijd_zwa1_uur</th>\n",
       "      <th>...</th>\n",
       "      <th>ipaqtot2</th>\n",
       "      <th>tijd_zit2_uur</th>\n",
       "      <th>tijd_zit2_min</th>\n",
       "      <th>wear_1</th>\n",
       "      <th>wear_2</th>\n",
       "      <th>wear_3</th>\n",
       "      <th>wear_4</th>\n",
       "      <th>wear_5</th>\n",
       "      <th>wear_6</th>\n",
       "      <th>wear_7</th>\n",
       "    </tr>\n",
       "    <tr>\n",
       "      <th>ID</th>\n",
       "      <th></th>\n",
       "      <th></th>\n",
       "      <th></th>\n",
       "      <th></th>\n",
       "      <th></th>\n",
       "      <th></th>\n",
       "      <th></th>\n",
       "      <th></th>\n",
       "      <th></th>\n",
       "      <th></th>\n",
       "      <th></th>\n",
       "      <th></th>\n",
       "      <th></th>\n",
       "      <th></th>\n",
       "      <th></th>\n",
       "      <th></th>\n",
       "      <th></th>\n",
       "      <th></th>\n",
       "      <th></th>\n",
       "      <th></th>\n",
       "      <th></th>\n",
       "    </tr>\n",
       "  </thead>\n",
       "  <tbody>\n",
       "    <tr>\n",
       "      <th>1</th>\n",
       "      <td>2019</td>\n",
       "      <td>Female</td>\n",
       "      <td>18.0</td>\n",
       "      <td>Moved_out</td>\n",
       "      <td>NaN</td>\n",
       "      <td>3.0</td>\n",
       "      <td>2.0</td>\n",
       "      <td>2.5</td>\n",
       "      <td>2.0</td>\n",
       "      <td>2.0</td>\n",
       "      <td>...</td>\n",
       "      <td>NaN</td>\n",
       "      <td>7.0</td>\n",
       "      <td>30.0</td>\n",
       "      <td>Yes</td>\n",
       "      <td>Yes</td>\n",
       "      <td>Yes</td>\n",
       "      <td>Yes</td>\n",
       "      <td>Yes</td>\n",
       "      <td>Yes</td>\n",
       "      <td>Yes</td>\n",
       "    </tr>\n",
       "    <tr>\n",
       "      <th>2</th>\n",
       "      <td>2019</td>\n",
       "      <td>Female</td>\n",
       "      <td>24.9</td>\n",
       "      <td>Moved_out</td>\n",
       "      <td>5000.0</td>\n",
       "      <td>1.0</td>\n",
       "      <td>2.0</td>\n",
       "      <td>1.5</td>\n",
       "      <td>0.0</td>\n",
       "      <td>NaN</td>\n",
       "      <td>...</td>\n",
       "      <td>NaN</td>\n",
       "      <td>NaN</td>\n",
       "      <td>NaN</td>\n",
       "      <td>Yes</td>\n",
       "      <td>Yes</td>\n",
       "      <td>Yes</td>\n",
       "      <td>Yes</td>\n",
       "      <td>Yes</td>\n",
       "      <td>Yes</td>\n",
       "      <td>Yes</td>\n",
       "    </tr>\n",
       "    <tr>\n",
       "      <th>3</th>\n",
       "      <td>2019</td>\n",
       "      <td>Female</td>\n",
       "      <td>21.8</td>\n",
       "      <td>Moved_out</td>\n",
       "      <td>6500.0</td>\n",
       "      <td>6.0</td>\n",
       "      <td>2.0</td>\n",
       "      <td>4.0</td>\n",
       "      <td>2.0</td>\n",
       "      <td>1.0</td>\n",
       "      <td>...</td>\n",
       "      <td>9795.0</td>\n",
       "      <td>9.0</td>\n",
       "      <td>NaN</td>\n",
       "      <td>Yes</td>\n",
       "      <td>Yes</td>\n",
       "      <td>No</td>\n",
       "      <td>Yes</td>\n",
       "      <td>No</td>\n",
       "      <td>Yes</td>\n",
       "      <td>Yes</td>\n",
       "    </tr>\n",
       "    <tr>\n",
       "      <th>4</th>\n",
       "      <td>2019</td>\n",
       "      <td>Female</td>\n",
       "      <td>18.7</td>\n",
       "      <td>Living_with_parents</td>\n",
       "      <td>5000.0</td>\n",
       "      <td>1.0</td>\n",
       "      <td>2.0</td>\n",
       "      <td>1.5</td>\n",
       "      <td>1.0</td>\n",
       "      <td>1.0</td>\n",
       "      <td>...</td>\n",
       "      <td>744.0</td>\n",
       "      <td>10.0</td>\n",
       "      <td>NaN</td>\n",
       "      <td>Yes</td>\n",
       "      <td>Yes</td>\n",
       "      <td>Yes</td>\n",
       "      <td>No</td>\n",
       "      <td>Yes</td>\n",
       "      <td>Yes</td>\n",
       "      <td>Yes</td>\n",
       "    </tr>\n",
       "    <tr>\n",
       "      <th>5</th>\n",
       "      <td>2019</td>\n",
       "      <td>Male</td>\n",
       "      <td>27.8</td>\n",
       "      <td>Living_with_parents</td>\n",
       "      <td>NaN</td>\n",
       "      <td>7.0</td>\n",
       "      <td>7.0</td>\n",
       "      <td>7.0</td>\n",
       "      <td>5.0</td>\n",
       "      <td>2.0</td>\n",
       "      <td>...</td>\n",
       "      <td>NaN</td>\n",
       "      <td>4.0</td>\n",
       "      <td>NaN</td>\n",
       "      <td>No</td>\n",
       "      <td>No</td>\n",
       "      <td>No</td>\n",
       "      <td>No</td>\n",
       "      <td>Yes</td>\n",
       "      <td>Yes</td>\n",
       "      <td>Yes</td>\n",
       "    </tr>\n",
       "  </tbody>\n",
       "</table>\n",
       "<p>5 rows × 102 columns</p>\n",
       "</div>"
      ],
      "text/plain": [
       "    year  gender   bmi               living  stap_est  erv_fa_sub1_q  \\\n",
       "ID                                                                     \n",
       "1   2019  Female  18.0            Moved_out       NaN            3.0   \n",
       "2   2019  Female  24.9            Moved_out    5000.0            1.0   \n",
       "3   2019  Female  21.8            Moved_out    6500.0            6.0   \n",
       "4   2019  Female  18.7  Living_with_parents    5000.0            1.0   \n",
       "5   2019    Male  27.8  Living_with_parents       NaN            7.0   \n",
       "\n",
       "    erv_fa_sub2_q  erv_fa  dag_zwa1  tijd_zwa1_uur  ...  ipaqtot2  \\\n",
       "ID                                                  ...             \n",
       "1             2.0     2.5       2.0            2.0  ...       NaN   \n",
       "2             2.0     1.5       0.0            NaN  ...       NaN   \n",
       "3             2.0     4.0       2.0            1.0  ...    9795.0   \n",
       "4             2.0     1.5       1.0            1.0  ...     744.0   \n",
       "5             7.0     7.0       5.0            2.0  ...       NaN   \n",
       "\n",
       "    tijd_zit2_uur  tijd_zit2_min  wear_1  wear_2  wear_3  wear_4  wear_5  \\\n",
       "ID                                                                         \n",
       "1             7.0           30.0     Yes     Yes     Yes     Yes     Yes   \n",
       "2             NaN            NaN     Yes     Yes     Yes     Yes     Yes   \n",
       "3             9.0            NaN     Yes     Yes      No     Yes      No   \n",
       "4            10.0            NaN     Yes     Yes     Yes      No     Yes   \n",
       "5             4.0            NaN      No      No      No      No     Yes   \n",
       "\n",
       "    wear_6  wear_7  \n",
       "ID                  \n",
       "1      Yes     Yes  \n",
       "2      Yes     Yes  \n",
       "3      Yes     Yes  \n",
       "4      Yes     Yes  \n",
       "5      Yes     Yes  \n",
       "\n",
       "[5 rows x 102 columns]"
      ]
     },
     "execution_count": 3,
     "metadata": {},
     "output_type": "execute_result"
    }
   ],
   "source": [
    "# take a look at the data\n",
    "data.head()"
   ]
  },
  {
   "cell_type": "code",
   "execution_count": 4,
   "id": "a325a567",
   "metadata": {},
   "outputs": [
    {
     "name": "stdout",
     "output_type": "stream",
     "text": [
      "<class 'pandas.core.frame.DataFrame'>\n",
      "Int64Index: 290 entries, 1 to 290\n",
      "Columns: 102 entries, year to wear_7\n",
      "dtypes: float64(70), int64(1), object(31)\n",
      "memory usage: 233.4+ KB\n",
      "The shape of the data is (290, 102)\n"
     ]
    }
   ],
   "source": [
    "# print some info of the data\n",
    "data.info()\n",
    "print(\"The shape of the data is\", data.shape)"
   ]
  },
  {
   "cell_type": "code",
   "execution_count": 5,
   "id": "bbd6cc12",
   "metadata": {},
   "outputs": [
    {
     "data": {
      "text/html": [
       "<div>\n",
       "<style scoped>\n",
       "    .dataframe tbody tr th:only-of-type {\n",
       "        vertical-align: middle;\n",
       "    }\n",
       "\n",
       "    .dataframe tbody tr th {\n",
       "        vertical-align: top;\n",
       "    }\n",
       "\n",
       "    .dataframe thead th {\n",
       "        text-align: right;\n",
       "    }\n",
       "</style>\n",
       "<table border=\"1\" class=\"dataframe\">\n",
       "  <thead>\n",
       "    <tr style=\"text-align: right;\">\n",
       "      <th></th>\n",
       "      <th>year</th>\n",
       "      <th>bmi</th>\n",
       "      <th>stap_est</th>\n",
       "      <th>erv_fa_sub1_q</th>\n",
       "      <th>erv_fa_sub2_q</th>\n",
       "      <th>erv_fa</th>\n",
       "      <th>dag_zwa1</th>\n",
       "      <th>tijd_zwa1_uur</th>\n",
       "      <th>tijd_zwa1_min</th>\n",
       "      <th>dag_mat1</th>\n",
       "      <th>...</th>\n",
       "      <th>tijd_zwa2_min</th>\n",
       "      <th>dag_mat2</th>\n",
       "      <th>tijd_mat2_uur</th>\n",
       "      <th>tijd_mat2_min</th>\n",
       "      <th>dag_wan2</th>\n",
       "      <th>tijd_wan2_uur</th>\n",
       "      <th>tijd_wan2_min</th>\n",
       "      <th>ipaqtot2</th>\n",
       "      <th>tijd_zit2_uur</th>\n",
       "      <th>tijd_zit2_min</th>\n",
       "    </tr>\n",
       "  </thead>\n",
       "  <tbody>\n",
       "    <tr>\n",
       "      <th>count</th>\n",
       "      <td>290.000000</td>\n",
       "      <td>278.000000</td>\n",
       "      <td>264.000000</td>\n",
       "      <td>286.000000</td>\n",
       "      <td>286.000000</td>\n",
       "      <td>286.000000</td>\n",
       "      <td>285.000000</td>\n",
       "      <td>227.000000</td>\n",
       "      <td>197.000000</td>\n",
       "      <td>284.000000</td>\n",
       "      <td>...</td>\n",
       "      <td>142.000000</td>\n",
       "      <td>268.000000</td>\n",
       "      <td>203.000000</td>\n",
       "      <td>198.000000</td>\n",
       "      <td>268.000000</td>\n",
       "      <td>176.000000</td>\n",
       "      <td>216.000000</td>\n",
       "      <td>240.000000</td>\n",
       "      <td>259.000000</td>\n",
       "      <td>122.000000</td>\n",
       "    </tr>\n",
       "    <tr>\n",
       "      <th>mean</th>\n",
       "      <td>2020.010345</td>\n",
       "      <td>21.258957</td>\n",
       "      <td>5763.121212</td>\n",
       "      <td>4.129371</td>\n",
       "      <td>4.006993</td>\n",
       "      <td>4.068182</td>\n",
       "      <td>2.014035</td>\n",
       "      <td>1.211454</td>\n",
       "      <td>19.269036</td>\n",
       "      <td>4.753521</td>\n",
       "      <td>...</td>\n",
       "      <td>21.330986</td>\n",
       "      <td>4.373134</td>\n",
       "      <td>1.583744</td>\n",
       "      <td>22.358586</td>\n",
       "      <td>4.022388</td>\n",
       "      <td>1.346591</td>\n",
       "      <td>23.226852</td>\n",
       "      <td>3272.776667</td>\n",
       "      <td>7.783784</td>\n",
       "      <td>7.270492</td>\n",
       "    </tr>\n",
       "    <tr>\n",
       "      <th>std</th>\n",
       "      <td>0.812891</td>\n",
       "      <td>2.331746</td>\n",
       "      <td>2146.115991</td>\n",
       "      <td>1.646062</td>\n",
       "      <td>1.489126</td>\n",
       "      <td>1.440541</td>\n",
       "      <td>1.482223</td>\n",
       "      <td>0.769583</td>\n",
       "      <td>15.218266</td>\n",
       "      <td>1.876719</td>\n",
       "      <td>...</td>\n",
       "      <td>15.095310</td>\n",
       "      <td>2.034061</td>\n",
       "      <td>4.788123</td>\n",
       "      <td>14.401343</td>\n",
       "      <td>2.192826</td>\n",
       "      <td>3.799141</td>\n",
       "      <td>12.856974</td>\n",
       "      <td>3223.598739</td>\n",
       "      <td>3.245684</td>\n",
       "      <td>13.581731</td>\n",
       "    </tr>\n",
       "    <tr>\n",
       "      <th>min</th>\n",
       "      <td>2019.000000</td>\n",
       "      <td>16.600000</td>\n",
       "      <td>400.000000</td>\n",
       "      <td>0.000000</td>\n",
       "      <td>0.000000</td>\n",
       "      <td>0.000000</td>\n",
       "      <td>0.000000</td>\n",
       "      <td>0.000000</td>\n",
       "      <td>0.000000</td>\n",
       "      <td>0.000000</td>\n",
       "      <td>...</td>\n",
       "      <td>0.000000</td>\n",
       "      <td>0.000000</td>\n",
       "      <td>0.000000</td>\n",
       "      <td>0.000000</td>\n",
       "      <td>0.000000</td>\n",
       "      <td>0.000000</td>\n",
       "      <td>0.000000</td>\n",
       "      <td>0.000000</td>\n",
       "      <td>0.000000</td>\n",
       "      <td>0.000000</td>\n",
       "    </tr>\n",
       "    <tr>\n",
       "      <th>25%</th>\n",
       "      <td>2019.000000</td>\n",
       "      <td>19.700000</td>\n",
       "      <td>5000.000000</td>\n",
       "      <td>3.000000</td>\n",
       "      <td>3.000000</td>\n",
       "      <td>3.000000</td>\n",
       "      <td>1.000000</td>\n",
       "      <td>1.000000</td>\n",
       "      <td>0.000000</td>\n",
       "      <td>3.000000</td>\n",
       "      <td>...</td>\n",
       "      <td>0.000000</td>\n",
       "      <td>3.000000</td>\n",
       "      <td>0.000000</td>\n",
       "      <td>15.000000</td>\n",
       "      <td>2.000000</td>\n",
       "      <td>0.000000</td>\n",
       "      <td>15.000000</td>\n",
       "      <td>1428.000000</td>\n",
       "      <td>6.000000</td>\n",
       "      <td>0.000000</td>\n",
       "    </tr>\n",
       "    <tr>\n",
       "      <th>50%</th>\n",
       "      <td>2020.000000</td>\n",
       "      <td>21.000000</td>\n",
       "      <td>6000.000000</td>\n",
       "      <td>4.000000</td>\n",
       "      <td>4.000000</td>\n",
       "      <td>4.000000</td>\n",
       "      <td>2.000000</td>\n",
       "      <td>1.000000</td>\n",
       "      <td>30.000000</td>\n",
       "      <td>5.000000</td>\n",
       "      <td>...</td>\n",
       "      <td>30.000000</td>\n",
       "      <td>5.000000</td>\n",
       "      <td>1.000000</td>\n",
       "      <td>30.000000</td>\n",
       "      <td>4.000000</td>\n",
       "      <td>0.000000</td>\n",
       "      <td>20.000000</td>\n",
       "      <td>2421.750000</td>\n",
       "      <td>7.000000</td>\n",
       "      <td>0.000000</td>\n",
       "    </tr>\n",
       "    <tr>\n",
       "      <th>75%</th>\n",
       "      <td>2021.000000</td>\n",
       "      <td>22.600000</td>\n",
       "      <td>7000.000000</td>\n",
       "      <td>5.000000</td>\n",
       "      <td>5.000000</td>\n",
       "      <td>5.000000</td>\n",
       "      <td>3.000000</td>\n",
       "      <td>1.000000</td>\n",
       "      <td>30.000000</td>\n",
       "      <td>6.000000</td>\n",
       "      <td>...</td>\n",
       "      <td>30.000000</td>\n",
       "      <td>6.000000</td>\n",
       "      <td>1.000000</td>\n",
       "      <td>30.000000</td>\n",
       "      <td>6.000000</td>\n",
       "      <td>1.000000</td>\n",
       "      <td>30.000000</td>\n",
       "      <td>3861.250000</td>\n",
       "      <td>9.000000</td>\n",
       "      <td>0.000000</td>\n",
       "    </tr>\n",
       "    <tr>\n",
       "      <th>max</th>\n",
       "      <td>2021.000000</td>\n",
       "      <td>32.000000</td>\n",
       "      <td>14000.000000</td>\n",
       "      <td>7.000000</td>\n",
       "      <td>7.000000</td>\n",
       "      <td>7.000000</td>\n",
       "      <td>7.000000</td>\n",
       "      <td>8.000000</td>\n",
       "      <td>50.000000</td>\n",
       "      <td>7.000000</td>\n",
       "      <td>...</td>\n",
       "      <td>60.000000</td>\n",
       "      <td>7.000000</td>\n",
       "      <td>50.000000</td>\n",
       "      <td>50.000000</td>\n",
       "      <td>7.000000</td>\n",
       "      <td>30.000000</td>\n",
       "      <td>50.000000</td>\n",
       "      <td>26640.000000</td>\n",
       "      <td>40.000000</td>\n",
       "      <td>45.000000</td>\n",
       "    </tr>\n",
       "  </tbody>\n",
       "</table>\n",
       "<p>8 rows × 71 columns</p>\n",
       "</div>"
      ],
      "text/plain": [
       "              year         bmi      stap_est  erv_fa_sub1_q  erv_fa_sub2_q  \\\n",
       "count   290.000000  278.000000    264.000000     286.000000     286.000000   \n",
       "mean   2020.010345   21.258957   5763.121212       4.129371       4.006993   \n",
       "std       0.812891    2.331746   2146.115991       1.646062       1.489126   \n",
       "min    2019.000000   16.600000    400.000000       0.000000       0.000000   \n",
       "25%    2019.000000   19.700000   5000.000000       3.000000       3.000000   \n",
       "50%    2020.000000   21.000000   6000.000000       4.000000       4.000000   \n",
       "75%    2021.000000   22.600000   7000.000000       5.000000       5.000000   \n",
       "max    2021.000000   32.000000  14000.000000       7.000000       7.000000   \n",
       "\n",
       "           erv_fa    dag_zwa1  tijd_zwa1_uur  tijd_zwa1_min    dag_mat1  ...  \\\n",
       "count  286.000000  285.000000     227.000000     197.000000  284.000000  ...   \n",
       "mean     4.068182    2.014035       1.211454      19.269036    4.753521  ...   \n",
       "std      1.440541    1.482223       0.769583      15.218266    1.876719  ...   \n",
       "min      0.000000    0.000000       0.000000       0.000000    0.000000  ...   \n",
       "25%      3.000000    1.000000       1.000000       0.000000    3.000000  ...   \n",
       "50%      4.000000    2.000000       1.000000      30.000000    5.000000  ...   \n",
       "75%      5.000000    3.000000       1.000000      30.000000    6.000000  ...   \n",
       "max      7.000000    7.000000       8.000000      50.000000    7.000000  ...   \n",
       "\n",
       "       tijd_zwa2_min    dag_mat2  tijd_mat2_uur  tijd_mat2_min    dag_wan2  \\\n",
       "count     142.000000  268.000000     203.000000     198.000000  268.000000   \n",
       "mean       21.330986    4.373134       1.583744      22.358586    4.022388   \n",
       "std        15.095310    2.034061       4.788123      14.401343    2.192826   \n",
       "min         0.000000    0.000000       0.000000       0.000000    0.000000   \n",
       "25%         0.000000    3.000000       0.000000      15.000000    2.000000   \n",
       "50%        30.000000    5.000000       1.000000      30.000000    4.000000   \n",
       "75%        30.000000    6.000000       1.000000      30.000000    6.000000   \n",
       "max        60.000000    7.000000      50.000000      50.000000    7.000000   \n",
       "\n",
       "       tijd_wan2_uur  tijd_wan2_min      ipaqtot2  tijd_zit2_uur  \\\n",
       "count     176.000000     216.000000    240.000000     259.000000   \n",
       "mean        1.346591      23.226852   3272.776667       7.783784   \n",
       "std         3.799141      12.856974   3223.598739       3.245684   \n",
       "min         0.000000       0.000000      0.000000       0.000000   \n",
       "25%         0.000000      15.000000   1428.000000       6.000000   \n",
       "50%         0.000000      20.000000   2421.750000       7.000000   \n",
       "75%         1.000000      30.000000   3861.250000       9.000000   \n",
       "max        30.000000      50.000000  26640.000000      40.000000   \n",
       "\n",
       "       tijd_zit2_min  \n",
       "count     122.000000  \n",
       "mean        7.270492  \n",
       "std        13.581731  \n",
       "min         0.000000  \n",
       "25%         0.000000  \n",
       "50%         0.000000  \n",
       "75%         0.000000  \n",
       "max        45.000000  \n",
       "\n",
       "[8 rows x 71 columns]"
      ]
     },
     "execution_count": 5,
     "metadata": {},
     "output_type": "execute_result"
    }
   ],
   "source": [
    "# print some descriptive statistics\n",
    "data.describe()"
   ]
  },
  {
   "cell_type": "code",
   "execution_count": 6,
   "id": "6e50a11f",
   "metadata": {},
   "outputs": [
    {
     "name": "stdout",
     "output_type": "stream",
     "text": [
      "Index(['year', 'gender', 'bmi', 'living', 'stap_est', 'erv_fa_sub1_q',\n",
      "       'erv_fa_sub2_q', 'erv_fa', 'dag_zwa1', 'tijd_zwa1_uur',\n",
      "       ...\n",
      "       'ipaqtot2', 'tijd_zit2_uur', 'tijd_zit2_min', 'wear_1', 'wear_2',\n",
      "       'wear_3', 'wear_4', 'wear_5', 'wear_6', 'wear_7'],\n",
      "      dtype='object', length=102)\n"
     ]
    }
   ],
   "source": [
    "# print a list of the columns/features\n",
    "print(data.columns)"
   ]
  },
  {
   "cell_type": "code",
   "execution_count": 7,
   "id": "42199c81",
   "metadata": {},
   "outputs": [],
   "source": [
    "# here we do some more data preprocessing\n",
    "# first we calculate the average number of steps necessary for \n",
    "\n",
    "data['stap_om_mean'] = (data['stap_om_1_aantal'] + data['stap_om_2_aantal'] + \\\n",
    "                        data['stap_om_3_aantal'] + data['stap_om_4_aantal'] + \\\n",
    "                        data['stap_om_5_aantal'] + data['stap_om_6_aantal'] + \\\n",
    "                        data['stap_om_7_aantal']) / 7\n",
    "\n",
    "data['stap_app_mean'] = (data['stap_app_1_aantal'] + data['stap_app_2_aantal'] + \\\n",
    "                        data['stap_app_3_aantal'] + data['stap_app_4_aantal'] + \\\n",
    "                        data['stap_app_5_aantal'] + data['stap_app_6_aantal'] + \\\n",
    "                        data['stap_app_7_aantal']) / 7\n",
    "\n",
    "# we only keep the data that we consider relevant \n",
    "# and discard the remaining columns\n",
    "\n",
    "columns_to_keep = ['year', 'bmi', 'stap_est', 'erv_fa', 'ipaqtot1', 'attitu_tot', 'soc_omg_tot', 'ipaqtot2', 'stap_om_mean', 'stap_app_mean']\n",
    "\n",
    "data = data[columns_to_keep]"
   ]
  },
  {
   "cell_type": "code",
   "execution_count": 8,
   "id": "02d3786e",
   "metadata": {},
   "outputs": [
    {
     "name": "stdout",
     "output_type": "stream",
     "text": [
      "<class 'pandas.core.frame.DataFrame'>\n",
      "Int64Index: 290 entries, 1 to 290\n",
      "Data columns (total 10 columns):\n",
      " #   Column         Non-Null Count  Dtype  \n",
      "---  ------         --------------  -----  \n",
      " 0   year           290 non-null    int64  \n",
      " 1   bmi            290 non-null    float64\n",
      " 2   stap_est       290 non-null    float64\n",
      " 3   erv_fa         290 non-null    float64\n",
      " 4   ipaqtot1       290 non-null    float64\n",
      " 5   attitu_tot     290 non-null    float64\n",
      " 6   soc_omg_tot    290 non-null    float64\n",
      " 7   ipaqtot2       290 non-null    float64\n",
      " 8   stap_om_mean   290 non-null    float64\n",
      " 9   stap_app_mean  290 non-null    float64\n",
      "dtypes: float64(9), int64(1)\n",
      "memory usage: 24.9 KB\n"
     ]
    }
   ],
   "source": [
    "# here we make a decision to handle the missing data\n",
    "# we can either fill in NA values in a column with the median,\n",
    "# or drop the NA samples that do not report an attitude & \n",
    "# perception score\n",
    "\n",
    "data = data.fillna(data.median()) # UNCOMMENT THIS TO FILL MISSING VALUES WITH MEDIAN\n",
    "# data = data.dropna(subset=['attitu_tot', 'erv_fa']) # UNCOMMENT THIS TO DROP SAMPLES WITH NO ATTITUDE/PERCEPTION SCORES\n",
    "\n",
    "# show number on non-null samples per column\n",
    "data.info()"
   ]
  },
  {
   "cell_type": "code",
   "execution_count": 9,
   "id": "cccc1096",
   "metadata": {},
   "outputs": [
    {
     "name": "stdout",
     "output_type": "stream",
     "text": [
      "False\n"
     ]
    }
   ],
   "source": [
    "# check whether the columns have NaN values\n",
    "print(data.isna().any().any())"
   ]
  },
  {
   "cell_type": "code",
   "execution_count": 10,
   "id": "e414a7bf",
   "metadata": {},
   "outputs": [
    {
     "name": "stdout",
     "output_type": "stream",
     "text": [
      "<class 'pandas.core.frame.DataFrame'>\n",
      "Int64Index: 288 entries, 1 to 290\n",
      "Data columns (total 10 columns):\n",
      " #   Column         Non-Null Count  Dtype  \n",
      "---  ------         --------------  -----  \n",
      " 0   year           288 non-null    int64  \n",
      " 1   bmi            288 non-null    float64\n",
      " 2   stap_est       288 non-null    float64\n",
      " 3   erv_fa         288 non-null    float64\n",
      " 4   ipaqtot1       288 non-null    float64\n",
      " 5   attitu_tot     288 non-null    float64\n",
      " 6   soc_omg_tot    288 non-null    float64\n",
      " 7   ipaqtot2       288 non-null    float64\n",
      " 8   stap_om_mean   288 non-null    float64\n",
      " 9   stap_app_mean  288 non-null    float64\n",
      "dtypes: float64(9), int64(1)\n",
      "memory usage: 24.8 KB\n"
     ]
    }
   ],
   "source": [
    "data_clean = data[(np.abs(sp.stats.zscore(data.attitu_tot)) < 3)]\n",
    "data_clean = data_clean[(np.abs(sp.stats.zscore(data_clean.erv_fa)) < 3)]\n",
    "\n",
    "data_clean.to_csv('data_clean.csv')\n",
    "\n",
    "data_clean.info()"
   ]
  },
  {
   "cell_type": "code",
   "execution_count": 11,
   "id": "d82c82cd",
   "metadata": {},
   "outputs": [
    {
     "data": {
      "image/png": "[encoded data removed]",
      "text/plain": [
       "<Figure size 432x288 with 1 Axes>"
      ]
     },
     "metadata": {},
     "output_type": "display_data"
    },
    {
     "data": {
      "text/plain": [
       "<ggplot: (672044819)>"
      ]
     },
     "execution_count": 11,
     "metadata": {},
     "output_type": "execute_result"
    }
   ],
   "source": [
    "ggplot(data_clean, aes('erv_fa')) + \\\n",
    "    geom_histogram(aes(y = after_stat('density')),\n",
    "                   binwidth = 0.5, alpha = 0.5, position = 'identity') + \\\n",
    "    geom_density(alpha = .25)"
   ]
  },
  {
   "cell_type": "code",
   "execution_count": 12,
   "id": "8422a5bd",
   "metadata": {},
   "outputs": [
    {
     "data": {
      "image/png": "[encoded data removed]",
      "text/plain": [
       "<Figure size 640x480 with 1 Axes>"
      ]
     },
     "metadata": {},
     "output_type": "display_data"
    },
    {
     "data": {
      "text/plain": [
       "<ggplot: (672046737)>"
      ]
     },
     "execution_count": 12,
     "metadata": {},
     "output_type": "execute_result"
    }
   ],
   "source": [
    "ggplot(data_clean, aes('attitu_tot')) + \\\n",
    "    geom_histogram(aes(y = after_stat('density')),\n",
    "                   binwidth = 0.5, alpha = 0.5, position = 'identity') + \\\n",
    "    geom_density(alpha = .25)"
   ]
  },
  {
   "cell_type": "code",
   "execution_count": 13,
   "id": "1c19886a",
   "metadata": {},
   "outputs": [
    {
     "data": {
      "image/png": "[encoded data removed]",
      "text/plain": [
       "<Figure size 640x480 with 1 Axes>"
      ]
     },
     "metadata": {},
     "output_type": "display_data"
    },
    {
     "data": {
      "text/plain": [
       "<ggplot: (672798160)>"
      ]
     },
     "execution_count": 13,
     "metadata": {},
     "output_type": "execute_result"
    }
   ],
   "source": [
    "ggplot(data_clean, aes('soc_omg_tot')) + \\\n",
    "    geom_histogram(aes(y = after_stat('density')),\n",
    "                   binwidth = 0.5, alpha = 0.5, position = 'identity') + \\\n",
    "    geom_density(alpha = .25)"
   ]
  },
  {
   "cell_type": "code",
   "execution_count": 14,
   "id": "c9f38913",
   "metadata": {},
   "outputs": [],
   "source": [
    "def check_normality(data):\n",
    "    test_stat_normality, p_value_normality = sp.stats.shapiro(data)\n",
    "    print(\"p value:%.4f\" % p_value_normality)\n",
    "    if p_value_normality < 0.05:\n",
    "        print(\"Reject null hypothesis >> The data is not normally distributed\")\n",
    "    else:\n",
    "        print(\"Fail to reject null hypothesis >> The data is normally distributed\")"
   ]
  },
  {
   "cell_type": "code",
   "execution_count": 15,
   "id": "4f6858f9",
   "metadata": {},
   "outputs": [],
   "source": [
    "def check_variance_homogeneity(group1, group2):\n",
    "    test_stat_var, p_value_var= sp.stats.levene(group1,group2)\n",
    "    print(\"p value:%.4f\" % p_value_var)\n",
    "    if p_value_var < 0.05:\n",
    "        print(\"Reject null hypothesis >> The variances of the samples are different.\")\n",
    "    else:\n",
    "        print(\"Fail to reject null hypothesis >> The variances of the samples are same.\")      "
   ]
  },
  {
   "cell_type": "code",
   "execution_count": 16,
   "id": "03313786",
   "metadata": {},
   "outputs": [],
   "source": [
    "def hypothesis_test(group_1, group_2, group_3):\n",
    "    test_stat_hypothesis, p_value_hypothesis = sp.stats.kruskal(group_1, group_2, group_3)\n",
    "    print(\"p value: %.4f\" % p_value_hypothesis)\n",
    "    if p_value_hypothesis < 0.05:\n",
    "        print(\"Reject null hypothesis >> The median score is equal across all groups\")\n",
    "    else:\n",
    "        print(\"Fail to reject null hypothesis >> The median score is not equal across all groups\")"
   ]
  },
  {
   "cell_type": "code",
   "execution_count": 17,
   "id": "ee0846f6",
   "metadata": {},
   "outputs": [
    {
     "name": "stdout",
     "output_type": "stream",
     "text": [
      "Checking normality of the perception data\n",
      "p value:0.0003\n",
      "Reject null hypothesis >> The data is not normally distributed\n",
      "\n",
      "Checking normality of the attitude data\n",
      "p value:0.0000\n",
      "Reject null hypothesis >> The data is not normally distributed\n",
      "\n",
      "Checking normality of the social perception data\n",
      "p value:0.0000\n",
      "Reject null hypothesis >> The data is not normally distributed\n",
      "\n"
     ]
    }
   ],
   "source": [
    "print('Checking normality of the perception data')\n",
    "check_normality(data_clean.erv_fa.to_numpy())\n",
    "print()\n",
    "\n",
    "print('Checking normality of the attitude data')\n",
    "check_normality(data_clean.attitu_tot.to_numpy())\n",
    "print()\n",
    "\n",
    "print('Checking normality of the social perception data')\n",
    "check_normality(data_clean.soc_omg_tot.to_numpy())\n",
    "print()"
   ]
  },
  {
   "cell_type": "code",
   "execution_count": 18,
   "id": "f19c56b6",
   "metadata": {},
   "outputs": [],
   "source": [
    "data_2019_clean = data_clean[data_clean.year==2019]\n",
    "data_2020_clean = data_clean[data_clean.year==2020]\n",
    "data_2021_clean = data_clean[data_clean.year==2021]"
   ]
  },
  {
   "cell_type": "code",
   "execution_count": 19,
   "id": "4e818c2d",
   "metadata": {},
   "outputs": [
    {
     "name": "stdout",
     "output_type": "stream",
     "text": [
      "On average, there were 96.0 samples per year.\n"
     ]
    }
   ],
   "source": [
    "# calculate the average samples per year\n",
    "average_samples_per_year = np.array([data_2019_clean.index.size, data_2020_clean.index.size, data_2021_clean.index.size]).mean()\n",
    "print(\"On average, there were\", average_samples_per_year.round(2), \"samples per year.\")"
   ]
  },
  {
   "cell_type": "code",
   "execution_count": 20,
   "id": "f625f4c1",
   "metadata": {},
   "outputs": [
    {
     "name": "stdout",
     "output_type": "stream",
     "text": [
      "Perception statistics 2019\n",
      "count    94.000000\n",
      "mean      4.287234\n",
      "std       1.496392\n",
      "min       0.500000\n",
      "25%       3.500000\n",
      "50%       4.500000\n",
      "75%       5.500000\n",
      "max       7.000000\n",
      "Name: erv_fa, dtype: float64\n",
      "\n",
      "Perception statistics 2020\n",
      "count    99.000000\n",
      "mean      3.792929\n",
      "std       1.360916\n",
      "min       0.000000\n",
      "25%       3.000000\n",
      "50%       3.500000\n",
      "75%       5.000000\n",
      "max       6.500000\n",
      "Name: erv_fa, dtype: float64\n",
      "\n",
      "Perception statistics 2021\n",
      "count    95.000000\n",
      "mean      4.178947\n",
      "std       1.383635\n",
      "min       1.000000\n",
      "25%       3.250000\n",
      "50%       4.500000\n",
      "75%       5.250000\n",
      "max       7.000000\n",
      "Name: erv_fa, dtype: float64\n",
      "\n"
     ]
    }
   ],
   "source": [
    "# here we print some descriptive statistics of the perception scores per year\n",
    "\n",
    "print('Perception statistics 2019')\n",
    "print(data_2019_clean.erv_fa.describe())\n",
    "print()\n",
    "\n",
    "print('Perception statistics 2020')\n",
    "print(data_2020_clean.erv_fa.describe())\n",
    "print()\n",
    "\n",
    "print('Perception statistics 2021')\n",
    "print(data_2021_clean.erv_fa.describe())\n",
    "print()"
   ]
  },
  {
   "cell_type": "code",
   "execution_count": 21,
   "id": "f89db3a7",
   "metadata": {},
   "outputs": [
    {
     "name": "stdout",
     "output_type": "stream",
     "text": [
      "Attitude statistics 2019\n",
      "count    94.000000\n",
      "mean      5.829787\n",
      "std       0.859961\n",
      "min       3.500000\n",
      "25%       5.000000\n",
      "50%       6.000000\n",
      "75%       6.500000\n",
      "max       7.000000\n",
      "Name: attitu_tot, dtype: float64\n",
      "\n",
      "Attitude statistics 2020\n",
      "count    99.000000\n",
      "mean      5.570707\n",
      "std       0.950322\n",
      "min       3.500000\n",
      "25%       5.000000\n",
      "50%       5.500000\n",
      "75%       6.000000\n",
      "max       7.000000\n",
      "Name: attitu_tot, dtype: float64\n",
      "\n",
      "Attitude statistics 2021\n",
      "count    95.000000\n",
      "mean      5.789474\n",
      "std       0.958109\n",
      "min       3.500000\n",
      "25%       5.000000\n",
      "50%       6.000000\n",
      "75%       6.500000\n",
      "max       7.000000\n",
      "Name: attitu_tot, dtype: float64\n",
      "\n"
     ]
    }
   ],
   "source": [
    "# here we print some descriptive statistics of the attitude scores per year\n",
    "\n",
    "print('Attitude statistics 2019')\n",
    "print(data_2019_clean.attitu_tot.describe())\n",
    "print()\n",
    "\n",
    "print('Attitude statistics 2020')\n",
    "print(data_2020_clean.attitu_tot.describe())\n",
    "print()\n",
    "\n",
    "print('Attitude statistics 2021')\n",
    "print(data_2021_clean.attitu_tot.describe())\n",
    "print()"
   ]
  },
  {
   "cell_type": "code",
   "execution_count": 22,
   "id": "cb7aea64",
   "metadata": {},
   "outputs": [
    {
     "name": "stdout",
     "output_type": "stream",
     "text": [
      "Social perception statistics 2019\n",
      "count    94.000000\n",
      "mean      4.526596\n",
      "std       1.048212\n",
      "min       1.000000\n",
      "25%       4.000000\n",
      "50%       4.500000\n",
      "75%       5.000000\n",
      "max       7.000000\n",
      "Name: soc_omg_tot, dtype: float64\n",
      "\n",
      "Social perception statistics 2020\n",
      "count    99.000000\n",
      "mean      4.121212\n",
      "std       1.115958\n",
      "min       0.500000\n",
      "25%       3.500000\n",
      "50%       4.500000\n",
      "75%       5.000000\n",
      "max       6.000000\n",
      "Name: soc_omg_tot, dtype: float64\n",
      "\n",
      "Social perception statistics 2021\n",
      "count    95.000000\n",
      "mean      4.452632\n",
      "std       1.067094\n",
      "min       1.500000\n",
      "25%       4.000000\n",
      "50%       4.500000\n",
      "75%       5.000000\n",
      "max       7.000000\n",
      "Name: soc_omg_tot, dtype: float64\n",
      "\n"
     ]
    }
   ],
   "source": [
    "# here we print some descriptive statistics of the attitude scores per year\n",
    "\n",
    "print('Social perception statistics 2019')\n",
    "print(data_2019_clean.soc_omg_tot.describe())\n",
    "print()\n",
    "\n",
    "print('Social perception statistics 2020')\n",
    "print(data_2020_clean.soc_omg_tot.describe())\n",
    "print()\n",
    "\n",
    "print('Social perception statistics 2021')\n",
    "print(data_2021_clean.soc_omg_tot.describe())\n",
    "print()"
   ]
  },
  {
   "cell_type": "code",
   "execution_count": 23,
   "id": "c53d9ea2",
   "metadata": {},
   "outputs": [
    {
     "data": {
      "image/png": "[encoded data removed]",
      "text/plain": [
       "<Figure size 640x480 with 1 Axes>"
      ]
     },
     "metadata": {},
     "output_type": "display_data"
    },
    {
     "data": {
      "text/plain": [
       "<ggplot: (672843966)>"
      ]
     },
     "execution_count": 23,
     "metadata": {},
     "output_type": "execute_result"
    }
   ],
   "source": [
    "ggplot(data_2019_clean, aes('erv_fa')) + \\\n",
    "    geom_histogram(aes(y = after_stat('density')),\n",
    "                   binwidth = 0.5, alpha = 0.5, position = 'identity') + \\\n",
    "    geom_density(alpha = .25)"
   ]
  },
  {
   "cell_type": "code",
   "execution_count": 24,
   "id": "bfd4412c",
   "metadata": {},
   "outputs": [
    {
     "data": {
      "image/png": "[encoded data removed]",
      "text/plain": [
       "<Figure size 640x480 with 1 Axes>"
      ]
     },
     "metadata": {},
     "output_type": "display_data"
    },
    {
     "data": {
      "text/plain": [
       "<ggplot: (672855209)>"
      ]
     },
     "execution_count": 24,
     "metadata": {},
     "output_type": "execute_result"
    }
   ],
   "source": [
    "ggplot(data_2019_clean, aes('attitu_tot')) + \\\n",
    "    geom_histogram(aes(y = after_stat('density')),\n",
    "                   binwidth = 0.5, alpha = 0.5, position = 'identity') + \\\n",
    "    geom_density(alpha = .25)"
   ]
  },
  {
   "cell_type": "code",
   "execution_count": 25,
   "id": "f01dd4de",
   "metadata": {},
   "outputs": [
    {
     "data": {
      "image/png": "[encoded data removed]",
      "text/plain": [
       "<Figure size 640x480 with 1 Axes>"
      ]
     },
     "metadata": {},
     "output_type": "display_data"
    },
    {
     "data": {
      "text/plain": [
       "<ggplot: (672899705)>"
      ]
     },
     "execution_count": 25,
     "metadata": {},
     "output_type": "execute_result"
    }
   ],
   "source": [
    "ggplot(data_2019_clean, aes('soc_omg_tot')) + \\\n",
    "    geom_histogram(aes(y = after_stat('density')),\n",
    "                   binwidth = 0.5, alpha = 0.5, position = 'identity') + \\\n",
    "    geom_density(alpha = .25)"
   ]
  },
  {
   "cell_type": "code",
   "execution_count": 26,
   "id": "a64a9271",
   "metadata": {},
   "outputs": [
    {
     "data": {
      "image/png": "[encoded data removed]",
      "text/plain": [
       "<Figure size 640x480 with 1 Axes>"
      ]
     },
     "metadata": {},
     "output_type": "display_data"
    },
    {
     "data": {
      "text/plain": [
       "<ggplot: (672948595)>"
      ]
     },
     "execution_count": 26,
     "metadata": {},
     "output_type": "execute_result"
    }
   ],
   "source": [
    "ggplot(data_2020_clean, aes('erv_fa')) + \\\n",
    "    geom_histogram(aes(y = after_stat('density')),\n",
    "                   binwidth = 0.5, alpha = 0.5, position = 'identity') + \\\n",
    "    geom_density(alpha = .25)"
   ]
  },
  {
   "cell_type": "code",
   "execution_count": 27,
   "id": "538641d5",
   "metadata": {
    "scrolled": true
   },
   "outputs": [
    {
     "data": {
      "image/png": "[encoded data removed]",
      "text/plain": [
       "<Figure size 640x480 with 1 Axes>"
      ]
     },
     "metadata": {},
     "output_type": "display_data"
    },
    {
     "data": {
      "text/plain": [
       "<ggplot: (672984239)>"
      ]
     },
     "execution_count": 27,
     "metadata": {},
     "output_type": "execute_result"
    }
   ],
   "source": [
    "ggplot(data_2020_clean, aes('attitu_tot')) + \\\n",
    "    geom_histogram(aes(y = after_stat('density')),\n",
    "                   binwidth = 0.5, alpha = 0.5, position = 'identity') + \\\n",
    "    geom_density(alpha = .25)"
   ]
  },
  {
   "cell_type": "code",
   "execution_count": 28,
   "id": "d9752faf",
   "metadata": {},
   "outputs": [
    {
     "data": {
      "image/png": "[encoded data removed]",
      "text/plain": [
       "<Figure size 640x480 with 1 Axes>"
      ]
     },
     "metadata": {},
     "output_type": "display_data"
    },
    {
     "data": {
      "text/plain": [
       "<ggplot: (673012571)>"
      ]
     },
     "execution_count": 28,
     "metadata": {},
     "output_type": "execute_result"
    }
   ],
   "source": [
    "ggplot(data_2020_clean, aes('soc_omg_tot')) + \\\n",
    "    geom_histogram(aes(y = after_stat('density')),\n",
    "                   binwidth = 0.5, alpha = 0.5, position = 'identity') + \\\n",
    "    geom_density(alpha = .25)"
   ]
  },
  {
   "cell_type": "code",
   "execution_count": 29,
   "id": "738f440f",
   "metadata": {},
   "outputs": [
    {
     "data": {
      "image/png": "[encoded data removed]",
      "text/plain": [
       "<Figure size 640x480 with 1 Axes>"
      ]
     },
     "metadata": {},
     "output_type": "display_data"
    },
    {
     "data": {
      "text/plain": [
       "<ggplot: (672993503)>"
      ]
     },
     "execution_count": 29,
     "metadata": {},
     "output_type": "execute_result"
    }
   ],
   "source": [
    "ggplot(data_2021_clean, aes('erv_fa')) + \\\n",
    "    geom_histogram(aes(y = after_stat('density')),\n",
    "                   binwidth = 0.5, alpha = 0.5, position = 'identity') + \\\n",
    "    geom_density(alpha = .25)"
   ]
  },
  {
   "cell_type": "code",
   "execution_count": 30,
   "id": "3d65da6a",
   "metadata": {},
   "outputs": [
    {
     "data": {
      "image/png": "[encoded data removed]",
      "text/plain": [
       "<Figure size 640x480 with 1 Axes>"
      ]
     },
     "metadata": {},
     "output_type": "display_data"
    },
    {
     "data": {
      "text/plain": [
       "<ggplot: (673094148)>"
      ]
     },
     "execution_count": 30,
     "metadata": {},
     "output_type": "execute_result"
    }
   ],
   "source": [
    "ggplot(data_2021_clean, aes('attitu_tot')) + \\\n",
    "    geom_histogram(aes(y = after_stat('density')),\n",
    "                   binwidth = 0.5, alpha = 0.5, position = 'identity') + \\\n",
    "    geom_density(alpha = .25)"
   ]
  },
  {
   "cell_type": "code",
   "execution_count": 31,
   "id": "b0976b0e",
   "metadata": {},
   "outputs": [
    {
     "data": {
      "image/png": "[encoded data removed]",
      "text/plain": [
       "<Figure size 640x480 with 1 Axes>"
      ]
     },
     "metadata": {},
     "output_type": "display_data"
    },
    {
     "data": {
      "text/plain": [
       "<ggplot: (673132002)>"
      ]
     },
     "execution_count": 31,
     "metadata": {},
     "output_type": "execute_result"
    }
   ],
   "source": [
    "ggplot(data_2021_clean, aes('soc_omg_tot')) + \\\n",
    "    geom_histogram(aes(y = after_stat('density')),\n",
    "                   binwidth = 0.5, alpha = 0.5, position = 'identity') + \\\n",
    "    geom_density(alpha = .25)"
   ]
  },
  {
   "cell_type": "code",
   "execution_count": 32,
   "id": "52806356",
   "metadata": {},
   "outputs": [
    {
     "name": "stdout",
     "output_type": "stream",
     "text": [
      "PERCEPTION DATA\n",
      "\n",
      "Checking normality of the perception data in 2019\n",
      "p value:0.0573\n",
      "Fail to reject null hypothesis >> The data is normally distributed\n",
      "\n",
      "Checking normality of the perception data in 2020\n",
      "p value:0.0883\n",
      "Fail to reject null hypothesis >> The data is normally distributed\n",
      "\n",
      "Checking normality of the perception data in 2021\n",
      "p value:0.0165\n",
      "Reject null hypothesis >> The data is not normally distributed\n",
      "\n",
      "ATTITUDE DATA\n",
      "\n",
      "Checking normality of the attitude data in 2019\n",
      "p value:0.0000\n",
      "Reject null hypothesis >> The data is not normally distributed\n",
      "\n",
      "Checking normality of the attitude data in 2020\n",
      "p value:0.0003\n",
      "Reject null hypothesis >> The data is not normally distributed\n",
      "\n",
      "Checking normality of the attitude data in 2021\n",
      "p value:0.0000\n",
      "Reject null hypothesis >> The data is not normally distributed\n",
      "\n",
      "SOCIAL PERCEPTION DATA\n",
      "\n",
      "Checking normality of the social perception data in 2019\n",
      "p value:0.0323\n",
      "Reject null hypothesis >> The data is not normally distributed\n",
      "\n",
      "Checking normality of the social perception data in 2020\n",
      "p value:0.0001\n",
      "Reject null hypothesis >> The data is not normally distributed\n",
      "\n",
      "Checking normality of the social perception data in 2021\n",
      "p value:0.0439\n",
      "Reject null hypothesis >> The data is not normally distributed\n",
      "\n"
     ]
    }
   ],
   "source": [
    "print('PERCEPTION DATA')\n",
    "print()\n",
    "\n",
    "print('Checking normality of the perception data in 2019')\n",
    "check_normality(data_2019_clean.erv_fa.to_numpy())\n",
    "print()\n",
    "\n",
    "print('Checking normality of the perception data in 2020')\n",
    "check_normality(data_2020_clean.erv_fa.to_numpy())\n",
    "print()\n",
    "\n",
    "print('Checking normality of the perception data in 2021')\n",
    "check_normality(data_2021_clean.erv_fa.to_numpy())\n",
    "print()\n",
    "\n",
    "print('ATTITUDE DATA')\n",
    "print()\n",
    "\n",
    "print('Checking normality of the attitude data in 2019')\n",
    "check_normality(data_2019_clean.attitu_tot.to_numpy())\n",
    "print()\n",
    "\n",
    "print('Checking normality of the attitude data in 2020')\n",
    "check_normality(data_2020_clean.attitu_tot.to_numpy())\n",
    "print()\n",
    "\n",
    "print('Checking normality of the attitude data in 2021')\n",
    "check_normality(data_2021_clean.attitu_tot.to_numpy())\n",
    "print()\n",
    "\n",
    "print('SOCIAL PERCEPTION DATA')\n",
    "print()\n",
    "\n",
    "print('Checking normality of the social perception data in 2019')\n",
    "check_normality(data_2019_clean.soc_omg_tot.to_numpy())\n",
    "print()\n",
    "\n",
    "print('Checking normality of the social perception data in 2020')\n",
    "check_normality(data_2020_clean.soc_omg_tot.to_numpy())\n",
    "print()\n",
    "\n",
    "print('Checking normality of the social perception data in 2021')\n",
    "check_normality(data_2021_clean.soc_omg_tot.to_numpy())\n",
    "print()"
   ]
  },
  {
   "cell_type": "code",
   "execution_count": 33,
   "id": "f1bfc815",
   "metadata": {},
   "outputs": [
    {
     "name": "stdout",
     "output_type": "stream",
     "text": [
      "PERCEPTION DATA\n",
      "Checking variance homogeneity of the perception data in 2019 and 2020\n",
      "p value:0.3730\n",
      "Fail to reject null hypothesis >> The variances of the samples are same.\n",
      "\n",
      "Checking variance homogeneity of the perception data in 2020 and 2021\n",
      "p value:0.6670\n",
      "Fail to reject null hypothesis >> The variances of the samples are same.\n",
      "\n",
      "Checking variance homogeneity of the perception data in 2019 and 2021\n",
      "p value:0.6307\n",
      "Fail to reject null hypothesis >> The variances of the samples are same.\n",
      "\n",
      "ATTITUDE DATA\n",
      "\n",
      "Checking variance homogeneity of the attitude data in 2019 and 2020\n",
      "p value:0.1219\n",
      "Fail to reject null hypothesis >> The variances of the samples are same.\n",
      "\n",
      "Checking variance homogeneity of the attitude data in 2020 and 2021\n",
      "p value:0.9929\n",
      "Fail to reject null hypothesis >> The variances of the samples are same.\n",
      "\n",
      "Checking variance homogeneity of the attitude data in 2019 and 2021\n",
      "p value:0.1386\n",
      "Fail to reject null hypothesis >> The variances of the samples are same.\n",
      "\n",
      "SOCIAL PERCEPTION DATA\n",
      "\n",
      "Checking variance homogeneity of the social perception data in 2019 and 2020\n",
      "p value:0.2883\n",
      "Fail to reject null hypothesis >> The variances of the samples are same.\n",
      "\n",
      "Checking variance homogeneity of the social perception data in 2020 and 2021\n",
      "p value:0.5783\n",
      "Fail to reject null hypothesis >> The variances of the samples are same.\n",
      "\n",
      "Checking variance homogeneity of the social perception data in 2019 and 2021\n",
      "p value:0.5773\n",
      "Fail to reject null hypothesis >> The variances of the samples are same.\n",
      "\n"
     ]
    }
   ],
   "source": [
    "print('PERCEPTION DATA')\n",
    "\n",
    "print('Checking variance homogeneity of the perception data in 2019 and 2020')\n",
    "check_variance_homogeneity(data_2019_clean.erv_fa.to_numpy(), data_2020_clean.erv_fa.to_numpy())\n",
    "print()\n",
    "\n",
    "print('Checking variance homogeneity of the perception data in 2020 and 2021')\n",
    "check_variance_homogeneity(data_2020_clean.erv_fa.to_numpy(), data_2021_clean.erv_fa.to_numpy())\n",
    "print()\n",
    "\n",
    "print('Checking variance homogeneity of the perception data in 2019 and 2021')\n",
    "check_variance_homogeneity(data_2019_clean.erv_fa.to_numpy(), data_2021_clean.erv_fa.to_numpy())\n",
    "print()\n",
    "\n",
    "print('ATTITUDE DATA')\n",
    "print()\n",
    "\n",
    "print('Checking variance homogeneity of the attitude data in 2019 and 2020')\n",
    "check_variance_homogeneity(data_2019_clean.attitu_tot.to_numpy(), data_2020_clean.attitu_tot.to_numpy())\n",
    "print()\n",
    "\n",
    "print('Checking variance homogeneity of the attitude data in 2020 and 2021')\n",
    "check_variance_homogeneity(data_2020_clean.attitu_tot.to_numpy(), data_2021_clean.attitu_tot.to_numpy())\n",
    "print()\n",
    "\n",
    "print('Checking variance homogeneity of the attitude data in 2019 and 2021')\n",
    "check_variance_homogeneity(data_2019_clean.attitu_tot.to_numpy(), data_2021_clean.attitu_tot.to_numpy())\n",
    "print()\n",
    "\n",
    "print('SOCIAL PERCEPTION DATA')\n",
    "print()\n",
    "\n",
    "print('Checking variance homogeneity of the social perception data in 2019 and 2020')\n",
    "check_variance_homogeneity(data_2019_clean.soc_omg_tot.to_numpy(), data_2020_clean.soc_omg_tot.to_numpy())\n",
    "print()\n",
    "\n",
    "print('Checking variance homogeneity of the social perception data in 2020 and 2021')\n",
    "check_variance_homogeneity(data_2020_clean.soc_omg_tot.to_numpy(), data_2021_clean.soc_omg_tot.to_numpy())\n",
    "print()\n",
    "\n",
    "print('Checking variance homogeneity of the social perception data in 2019 and 2021')\n",
    "check_variance_homogeneity(data_2019_clean.soc_omg_tot.to_numpy(), data_2021_clean.soc_omg_tot.to_numpy())\n",
    "print()"
   ]
  },
  {
   "cell_type": "code",
   "execution_count": 34,
   "id": "1ae90061",
   "metadata": {},
   "outputs": [
    {
     "name": "stdout",
     "output_type": "stream",
     "text": [
      "PERCEPTION DATA\n",
      "\n",
      "Testing  hypothesis of change in perception scores across years\n",
      "p value: 0.0367\n",
      "Reject null hypothesis >> The median score is equal across all groups\n",
      "\n",
      "ATTITUDE DATA\n",
      "\n",
      "Testing  hypothesis of change in attitude scores across years\n",
      "p value: 0.1156\n",
      "Fail to reject null hypothesis >> The median score is not equal across all groups\n",
      "\n",
      "SOCIAL PERCEPTION DATA\n",
      "\n",
      "Testing  hypothesis of change in attitude scores across years\n",
      "p value: 0.0712\n",
      "Fail to reject null hypothesis >> The median score is not equal across all groups\n"
     ]
    }
   ],
   "source": [
    "print('PERCEPTION DATA')\n",
    "print()\n",
    "\n",
    "# groups here are the perception scores per year\n",
    "group_1 = data_2019_clean.erv_fa.to_numpy()\n",
    "group_2 = data_2020_clean.erv_fa.to_numpy()\n",
    "group_3 = data_2021_clean.erv_fa.to_numpy()\n",
    "\n",
    "print('Testing  hypothesis of change in perception scores across years')\n",
    "hypothesis_test(group_1, group_2, group_3)\n",
    "print()\n",
    "\n",
    "print('ATTITUDE DATA')\n",
    "print()\n",
    "\n",
    "# groups here are the perception scores per year\n",
    "group_1 = data_2019_clean.attitu_tot.to_numpy()\n",
    "group_2 = data_2020_clean.attitu_tot.to_numpy()\n",
    "group_3 = data_2021_clean.attitu_tot.to_numpy()\n",
    "\n",
    "print('Testing  hypothesis of change in attitude scores across years')\n",
    "hypothesis_test(group_1, group_2, group_3)\n",
    "print()\n",
    "\n",
    "print('SOCIAL PERCEPTION DATA')\n",
    "print()\n",
    "\n",
    "# groups here are the perception scores per year\n",
    "group_1 = data_2019_clean.soc_omg_tot.to_numpy()\n",
    "group_2 = data_2020_clean.soc_omg_tot.to_numpy()\n",
    "group_3 = data_2021_clean.soc_omg_tot.to_numpy()\n",
    "\n",
    "print('Testing  hypothesis of change in attitude scores across years')\n",
    "hypothesis_test(group_1, group_2, group_3)"
   ]
  }
 ],
 "metadata": {
  "kernelspec": {
   "display_name": "Python 3 (ipykernel)",
   "language": "python",
   "name": "python3"
  },
  "language_info": {
   "codemirror_mode": {
    "name": "ipython",
    "version": 3
   },
   "file_extension": ".py",
   "mimetype": "text/x-python",
   "name": "python",
   "nbconvert_exporter": "python",
   "pygments_lexer": "ipython3",
   "version": "3.8.13"
  }
 },
 "nbformat": 4,
 "nbformat_minor": 5
}
